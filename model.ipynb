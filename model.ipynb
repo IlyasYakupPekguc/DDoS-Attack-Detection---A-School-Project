{
 "cells": [
  {
   "cell_type": "code",
   "execution_count": null,
   "metadata": {
    "vscode": {
     "languageId": "plaintext"
    }
   },
   "outputs": [],
   "source": [
    "#TODO's: \n",
    "1. Set up a virtual enviorment (conda or .venv)\n",
    "2. Set up the needed packages\n",
    "3. Analize the Dataset\n",
    "4. look for classification Algorithm\n",
    "5. Preporcess Dataset\n",
    "6. Make sure CUDA works\n",
    "7. Train model with the goal of high recall (because it's a dataset that needs to detect attacks)\n",
    "8. Look at the performance"
   ]
  },
  {
   "cell_type": "code",
   "execution_count": null,
   "metadata": {
    "vscode": {
     "languageId": "plaintext"
    }
   },
   "outputs": [],
   "source": []
  }
 ],
 "metadata": {
  "language_info": {
   "name": "python"
  }
 },
 "nbformat": 4,
 "nbformat_minor": 2
}
